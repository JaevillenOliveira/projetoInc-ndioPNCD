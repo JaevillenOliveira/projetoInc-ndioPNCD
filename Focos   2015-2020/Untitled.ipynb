{
 "cells": [
  {
   "cell_type": "code",
   "execution_count": 3,
   "metadata": {},
   "outputs": [],
   "source": [
    "import pandas as pd\n",
    "from datetime import datetime\n",
    "import matplotlib as plt\n",
    "\n",
    "focos_2015 = pd.read_csv('Focos_2015-01-01_2015-12-31.csv')\n",
    "\n",
    "datahora_dt = pd.Series([])\n",
    "for dt in focos_2015[\"datahora\"]:\n",
    "    datetime_object = datetime.strptime(dt, '%Y/%m/%d %H:%M:%S')\n",
    "    #datahora_dt.append(datetime_object)\n",
    "#print(datahora_dt)\n",
    "\n"
   ]
  },
  {
   "cell_type": "code",
   "execution_count": 10,
   "metadata": {},
   "outputs": [
    {
     "data": {
      "image/png": "[encoded data removed]",
      "text/plain": [
       "<Figure size 432x288 with 1 Axes>"
      ]
     },
     "metadata": {
      "needs_background": "light"
     },
     "output_type": "display_data"
    },
    {
     "name": "stdout",
     "output_type": "stream",
     "text": [
      "dict_values([597, 1051, 1487, 343, 172, 1, 10, 38, 7, 1])\n"
     ]
    }
   ],
   "source": [
    "import pandas as pd\n",
    "from collections import Counter\n",
    "import matplotlib.pyplot as plt\n",
    "\n",
    "focos_2015 = pd.read_csv('Focos_2015-01-01_2015-12-31.csv')\n",
    "\n",
    "focos_municipios = focos_2015[\"municipio\"]\n",
    "\n",
    "freqs = Counter (focos_municipios)\n",
    "\n",
    "xvals = range(len(freqs.values()))\n",
    "plt.bar(xvals, freqs.values() , color='#37777D')\n",
    "plt.xticks(xvals, freqs.keys(), rotation='vertical')\n",
    "plt.show() \n",
    "\n",
    "print(freqs.values())"
   ]
  },
  {
   "cell_type": "code",
   "execution_count": 13,
   "metadata": {},
   "outputs": [
    {
     "name": "stdout",
     "output_type": "stream",
     "text": [
      "0.3715747679831439\n",
      "1.5466663994898515\n",
      "1.682940695271227\n",
      "1.5901162775956716\n",
      "1.748374271124293\n",
      "3.2277636788373396\n"
     ]
    }
   ],
   "source": [
    "from haversine import haversine, Unit\n",
    "\n",
    "p1 = (-13.10364, -41.45999) # (lat, lon)\n",
    "p2 = (-13.10694, -41.46053)\n",
    "p3 = (-13.10585, -41.44589)\n",
    "p4 = (-13.10023, -41.47513)\n",
    "\n",
    "\n",
    "print(haversine(p1, p2))\n",
    "print(haversine(p1, p3))\n",
    "print(haversine(p1, p4))\n",
    "print(haversine(p2, p3))\n",
    "print(haversine(p2, p4))\n",
    "print(haversine(p3, p4))"
   ]
  },
  {
   "cell_type": "code",
   "execution_count": 22,
   "metadata": {},
   "outputs": [
    {
     "name": "stdout",
     "output_type": "stream",
     "text": [
      "8\n",
      "18.71144278606965\n"
     ]
    },
    {
     "data": {
      "image/png": "[encoded data removed]",
      "text/plain": [
       "<Figure size 432x288 with 1 Axes>"
      ]
     },
     "metadata": {
      "needs_background": "light"
     },
     "output_type": "display_data"
    }
   ],
   "source": [
    "import pandas as pd\n",
    "import statistics as stats\n",
    "import matplotlib.pyplot as plt\n",
    "\n",
    "focos_2015 = pd.read_csv('Focos_2020-01-01_2020-08-13.csv')\n",
    "\n",
    "focos_municipios = focos_2015[\"diasemchuva\"]\n",
    "focos_municipios.plot.hist()\n",
    "\n",
    "#print(stats.mode(focos_municipios))\n",
    "print(stats.median(focos_municipios))\n",
    "print(stats.mean(focos_municipios))"
   ]
  }
 ],
 "metadata": {
  "kernelspec": {
   "display_name": "Python 3",
   "language": "python",
   "name": "python3"
  },
  "language_info": {
   "codemirror_mode": {
    "name": "ipython",
    "version": 3
   },
   "file_extension": ".py",
   "mimetype": "text/x-python",
   "name": "python",
   "nbconvert_exporter": "python",
   "pygments_lexer": "ipython3",
   "version": "3.7.4"
  }
 },
 "nbformat": 4,
 "nbformat_minor": 2
}
